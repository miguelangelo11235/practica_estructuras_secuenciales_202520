{
  "nbformat": 4,
  "nbformat_minor": 0,
  "metadata": {
    "colab": {
      "private_outputs": true,
      "provenance": [],
      "authorship_tag": "ABX9TyNe8Fv90RZyZUbUxywe1ZdJ",
      "include_colab_link": true
    },
    "kernelspec": {
      "name": "python3",
      "display_name": "Python 3"
    },
    "language_info": {
      "name": "python"
    }
  },
  "cells": [
    {
      "cell_type": "markdown",
      "metadata": {
        "id": "view-in-github",
        "colab_type": "text"
      },
      "source": [
        "<a href=\"https://colab.research.google.com/github/miguelangelo11235/practica_estructuras_secuenciales_202520/blob/main/PracticaEstructurasSecuenciales202520.ipynb\" target=\"_parent\"><img src=\"https://colab.research.google.com/assets/colab-badge.svg\" alt=\"Open In Colab\"/></a>"
      ]
    },
    {
      "cell_type": "markdown",
      "source": [
        "# Ejercicios de Práctica con Estructuras Secuenciales\n",
        "\n",
        "**Curso:** Fundamentos de Programación\n",
        "\n",
        "**Presentado por:** Miguel Angel Ortiz\n",
        "\n",
        "**Email:** miguel.ortizp@upb.edu.co\n",
        "\n",
        "**Fecha:** 5 de septiembre de 2025"
      ],
      "metadata": {
        "id": "yIpOcrwESWJX"
      }
    },
    {
      "cell_type": "markdown",
      "source": [
        "## Información Personal\n",
        "Diseña un programa que muestre la siguiente información:\n",
        "- Tu nombre\n",
        "- Tu dirección, con ciudad, estado y código postal\n",
        "- Tu número de teléfono\n",
        "- Tu especialización universitaria\n",
        "\n",
        "### Pseudocódigo\n",
        "```\n",
        "Program personal_info\n",
        "Start\n",
        "  Declare String name, address, city, state, zip, phone, career\n",
        "\n",
        "  Display \"Programa de Información Personal\"\n",
        "  Display \"Ingrese su nombre: \"\n",
        "  Input name\n",
        "  Display \"Ingrese su dirección: \"\n",
        "  Input address\n",
        "  Display \"Ingrese su ciudad: \"\n",
        "  Input city\n",
        "  Display \"Ingrese su Estado: \"\n",
        "  Input state\n",
        "  Display \"Ingrese su código postal: \"\n",
        "  Input zip\n",
        "  Display \"Ingrese su número de teléfono: \"\n",
        "  Input phone\n",
        "  Display \"Ingrese su carrera: \"\n",
        "  Input career\n",
        "\n",
        "  Display \"Información Personal: \"\n",
        "  Display \"Nombre: \", name\n",
        "  Display \"Dirección: \", address\n",
        "  Display \"Ciudad: \", city\n",
        "  Display \"Estado: \", state\n",
        "  Display \"Código Postal: \", zip\n",
        "  Display \"Número de Teléfono: \", phone\n",
        "  Display \"Carrera: \", career\n",
        "\n",
        "End\n",
        "```"
      ],
      "metadata": {
        "id": "iDYS3f3AS6-X"
      }
    },
    {
      "cell_type": "code",
      "execution_count": null,
      "metadata": {
        "id": "GKB70whcSHm1"
      },
      "outputs": [],
      "source": [
        "# Programa para Información Personal\n",
        "\n",
        "print(\"Programa de Información Personal\")\n",
        "\n",
        "# Variables\n",
        "name = input(\"Ingrese su nombre: \")\n",
        "address = input(\"Ingrese su dirección: \")\n",
        "city = input(\"Ingrese su ciudad: \")\n",
        "state = input(\"Ingrese su Estado: \")\n",
        "zip = input(\"Ingrese su código postal: \")\n",
        "phone = input(\"Ingrese su número de teléfono: \")\n",
        "career = input(\"Ingrese su carrera: \")\n",
        "\n",
        "print(\"Información Personal: \")\n",
        "print(\"Nombre: \", name)\n",
        "print(\"Dirección: \", address)\n",
        "print(\"Ciudad: \", city)\n",
        "print(\"Estado: \", state)\n",
        "print(\"Código Postal: \", zip)\n",
        "print(\"Número de Teléfono: \", phone)\n",
        "print(\"Carrera: \", career)\n"
      ]
    },
    {
      "cell_type": "code",
      "source": [],
      "metadata": {
        "id": "YcPR78pof64P"
      },
      "execution_count": null,
      "outputs": []
    }
  ]
}